{
 "cells": [
  {
   "cell_type": "markdown",
   "id": "19e326b3",
   "metadata": {},
   "source": [
    "# 01 - Tuto xarray"
   ]
  },
  {
   "cell_type": "markdown",
   "id": "e990bc7c",
   "metadata": {},
   "source": [
    "This notebook is set to familiarize with the `xarray` package that you will have to use in other notebooks."
   ]
  },
  {
   "cell_type": "markdown",
   "id": "ba16fbcc",
   "metadata": {},
   "source": [
    "## Constraints\n",
    "\n",
    "+ 🚨 Only cells with the comment `# NOTE: Fill me!` should be filled\n",
    "+ 🚨 Notebook should be saved and commited **with** outputs for the submission\n",
    "\n",
    "\n",
    "+ ⚠️ The solution only requires packages listed in the `requirements/requirements.txt`\n",
    "\n",
    "## Note\n",
    "\n",
    "+ The `assert` statements in the notebook are here to guide the project.\n",
    "However, successful `assert` statements does not guarantee that your code is correct.\n"
   ]
  },
  {
   "cell_type": "code",
   "execution_count": 1,
   "id": "a4e91369",
   "metadata": {},
   "outputs": [
    {
     "name": "stdout",
     "output_type": "stream",
     "text": [
      "Requirement already satisfied: jupyter==1.0.0 in c:\\users\\david\\anaconda3\\lib\\site-packages (from -r requirements/requirements.txt (line 1)) (1.0.0)\n",
      "Collecting matplotlib>=3.6.0\n",
      "  Downloading matplotlib-3.7.0-cp39-cp39-win_amd64.whl (7.6 MB)\n",
      "     ---------------------------------------- 7.6/7.6 MB 7.8 MB/s eta 0:00:00\n",
      "Collecting netCDF4>=1.6.0\n",
      "  Downloading netCDF4-1.6.2-cp39-cp39-win_amd64.whl (5.2 MB)\n",
      "     ---------------------------------------- 5.2/5.2 MB 7.4 MB/s eta 0:00:00\n",
      "Collecting numpy>=1.23.0\n",
      "  Downloading numpy-1.24.2-cp39-cp39-win_amd64.whl (14.9 MB)\n",
      "     ---------------------------------------- 14.9/14.9 MB 8.0 MB/s eta 0:00:00\n",
      "Collecting pandas>=1.5.0\n",
      "  Downloading pandas-1.5.3-cp39-cp39-win_amd64.whl (10.9 MB)\n",
      "     ---------------------------------------- 10.9/10.9 MB 8.0 MB/s eta 0:00:00\n",
      "Collecting pathlib2==2.3.7.post1\n",
      "  Downloading pathlib2-2.3.7.post1-py2.py3-none-any.whl (18 kB)\n",
      "Collecting scipy==1.9.3\n",
      "  Downloading scipy-1.9.3-cp39-cp39-win_amd64.whl (40.2 MB)\n",
      "     ---------------------------------------- 40.2/40.2 MB 6.9 MB/s eta 0:00:00\n",
      "Collecting xarray>=2022.6.0\n",
      "  Downloading xarray-2023.2.0-py3-none-any.whl (975 kB)\n",
      "     -------------------------------------- 975.8/975.8 kB 7.7 MB/s eta 0:00:00\n",
      "Requirement already satisfied: ipywidgets in c:\\users\\david\\anaconda3\\lib\\site-packages (from jupyter==1.0.0->-r requirements/requirements.txt (line 1)) (7.6.5)\n",
      "Requirement already satisfied: nbconvert in c:\\users\\david\\anaconda3\\lib\\site-packages (from jupyter==1.0.0->-r requirements/requirements.txt (line 1)) (6.4.4)\n",
      "Requirement already satisfied: jupyter-console in c:\\users\\david\\anaconda3\\lib\\site-packages (from jupyter==1.0.0->-r requirements/requirements.txt (line 1)) (6.4.3)\n",
      "Requirement already satisfied: qtconsole in c:\\users\\david\\anaconda3\\lib\\site-packages (from jupyter==1.0.0->-r requirements/requirements.txt (line 1)) (5.2.2)\n",
      "Requirement already satisfied: notebook in c:\\users\\david\\anaconda3\\lib\\site-packages (from jupyter==1.0.0->-r requirements/requirements.txt (line 1)) (6.4.12)\n",
      "Requirement already satisfied: ipykernel in c:\\users\\david\\anaconda3\\lib\\site-packages (from jupyter==1.0.0->-r requirements/requirements.txt (line 1)) (6.15.2)\n",
      "Requirement already satisfied: six in c:\\users\\david\\anaconda3\\lib\\site-packages (from pathlib2==2.3.7.post1->-r requirements/requirements.txt (line 6)) (1.16.0)\n",
      "Collecting contourpy>=1.0.1\n",
      "  Downloading contourpy-1.0.7-cp39-cp39-win_amd64.whl (160 kB)\n",
      "     -------------------------------------- 160.2/160.2 kB 9.4 MB/s eta 0:00:00\n",
      "Requirement already satisfied: packaging>=20.0 in c:\\users\\david\\anaconda3\\lib\\site-packages (from matplotlib>=3.6.0->-r requirements/requirements.txt (line 2)) (21.3)\n",
      "Collecting importlib-resources>=3.2.0\n",
      "  Downloading importlib_resources-5.12.0-py3-none-any.whl (36 kB)\n",
      "Requirement already satisfied: python-dateutil>=2.7 in c:\\users\\david\\anaconda3\\lib\\site-packages (from matplotlib>=3.6.0->-r requirements/requirements.txt (line 2)) (2.8.2)\n",
      "Requirement already satisfied: pillow>=6.2.0 in c:\\users\\david\\anaconda3\\lib\\site-packages (from matplotlib>=3.6.0->-r requirements/requirements.txt (line 2)) (9.2.0)\n",
      "Requirement already satisfied: pyparsing>=2.3.1 in c:\\users\\david\\anaconda3\\lib\\site-packages (from matplotlib>=3.6.0->-r requirements/requirements.txt (line 2)) (3.0.9)\n",
      "Requirement already satisfied: fonttools>=4.22.0 in c:\\users\\david\\anaconda3\\lib\\site-packages (from matplotlib>=3.6.0->-r requirements/requirements.txt (line 2)) (4.25.0)\n",
      "Requirement already satisfied: kiwisolver>=1.0.1 in c:\\users\\david\\anaconda3\\lib\\site-packages (from matplotlib>=3.6.0->-r requirements/requirements.txt (line 2)) (1.4.2)\n",
      "Requirement already satisfied: cycler>=0.10 in c:\\users\\david\\anaconda3\\lib\\site-packages (from matplotlib>=3.6.0->-r requirements/requirements.txt (line 2)) (0.11.0)\n",
      "Collecting cftime\n",
      "  Downloading cftime-1.6.2-cp39-cp39-win_amd64.whl (171 kB)\n",
      "     -------------------------------------- 171.0/171.0 kB 3.4 MB/s eta 0:00:00\n",
      "Requirement already satisfied: pytz>=2020.1 in c:\\users\\david\\anaconda3\\lib\\site-packages (from pandas>=1.5.0->-r requirements/requirements.txt (line 5)) (2022.1)\n",
      "Requirement already satisfied: zipp>=3.1.0 in c:\\users\\david\\anaconda3\\lib\\site-packages (from importlib-resources>=3.2.0->matplotlib>=3.6.0->-r requirements/requirements.txt (line 2)) (3.8.0)\n",
      "Requirement already satisfied: psutil in c:\\users\\david\\anaconda3\\lib\\site-packages (from ipykernel->jupyter==1.0.0->-r requirements/requirements.txt (line 1)) (5.9.0)\n",
      "Requirement already satisfied: nest-asyncio in c:\\users\\david\\anaconda3\\lib\\site-packages (from ipykernel->jupyter==1.0.0->-r requirements/requirements.txt (line 1)) (1.5.5)\n",
      "Requirement already satisfied: debugpy>=1.0 in c:\\users\\david\\anaconda3\\lib\\site-packages (from ipykernel->jupyter==1.0.0->-r requirements/requirements.txt (line 1)) (1.5.1)\n",
      "Requirement already satisfied: jupyter-client>=6.1.12 in c:\\users\\david\\anaconda3\\lib\\site-packages (from ipykernel->jupyter==1.0.0->-r requirements/requirements.txt (line 1)) (7.3.4)\n",
      "Requirement already satisfied: ipython>=7.23.1 in c:\\users\\david\\anaconda3\\lib\\site-packages (from ipykernel->jupyter==1.0.0->-r requirements/requirements.txt (line 1)) (7.31.1)\n",
      "Requirement already satisfied: matplotlib-inline>=0.1 in c:\\users\\david\\anaconda3\\lib\\site-packages (from ipykernel->jupyter==1.0.0->-r requirements/requirements.txt (line 1)) (0.1.6)\n",
      "Requirement already satisfied: pyzmq>=17 in c:\\users\\david\\anaconda3\\lib\\site-packages (from ipykernel->jupyter==1.0.0->-r requirements/requirements.txt (line 1)) (23.2.0)\n",
      "Requirement already satisfied: tornado>=6.1 in c:\\users\\david\\anaconda3\\lib\\site-packages (from ipykernel->jupyter==1.0.0->-r requirements/requirements.txt (line 1)) (6.1)\n",
      "Requirement already satisfied: traitlets>=5.1.0 in c:\\users\\david\\anaconda3\\lib\\site-packages (from ipykernel->jupyter==1.0.0->-r requirements/requirements.txt (line 1)) (5.1.1)\n",
      "Requirement already satisfied: ipython-genutils~=0.2.0 in c:\\users\\david\\anaconda3\\lib\\site-packages (from ipywidgets->jupyter==1.0.0->-r requirements/requirements.txt (line 1)) (0.2.0)\n",
      "Requirement already satisfied: nbformat>=4.2.0 in c:\\users\\david\\anaconda3\\lib\\site-packages (from ipywidgets->jupyter==1.0.0->-r requirements/requirements.txt (line 1)) (5.5.0)\n",
      "Requirement already satisfied: widgetsnbextension~=3.5.0 in c:\\users\\david\\anaconda3\\lib\\site-packages (from ipywidgets->jupyter==1.0.0->-r requirements/requirements.txt (line 1)) (3.5.2)\n",
      "Requirement already satisfied: jupyterlab-widgets>=1.0.0 in c:\\users\\david\\anaconda3\\lib\\site-packages (from ipywidgets->jupyter==1.0.0->-r requirements/requirements.txt (line 1)) (1.0.0)\n",
      "Requirement already satisfied: prompt-toolkit!=3.0.0,!=3.0.1,<3.1.0,>=2.0.0 in c:\\users\\david\\anaconda3\\lib\\site-packages (from jupyter-console->jupyter==1.0.0->-r requirements/requirements.txt (line 1)) (3.0.20)\n",
      "Requirement already satisfied: pygments in c:\\users\\david\\anaconda3\\lib\\site-packages (from jupyter-console->jupyter==1.0.0->-r requirements/requirements.txt (line 1)) (2.11.2)\n",
      "Requirement already satisfied: pandocfilters>=1.4.1 in c:\\users\\david\\anaconda3\\lib\\site-packages (from nbconvert->jupyter==1.0.0->-r requirements/requirements.txt (line 1)) (1.5.0)\n",
      "Requirement already satisfied: testpath in c:\\users\\david\\anaconda3\\lib\\site-packages (from nbconvert->jupyter==1.0.0->-r requirements/requirements.txt (line 1)) (0.6.0)\n",
      "Requirement already satisfied: jupyter-core in c:\\users\\david\\anaconda3\\lib\\site-packages (from nbconvert->jupyter==1.0.0->-r requirements/requirements.txt (line 1)) (4.11.1)\n",
      "Requirement already satisfied: bleach in c:\\users\\david\\anaconda3\\lib\\site-packages (from nbconvert->jupyter==1.0.0->-r requirements/requirements.txt (line 1)) (4.1.0)\n",
      "Requirement already satisfied: jupyterlab-pygments in c:\\users\\david\\anaconda3\\lib\\site-packages (from nbconvert->jupyter==1.0.0->-r requirements/requirements.txt (line 1)) (0.1.2)\n",
      "Requirement already satisfied: jinja2>=2.4 in c:\\users\\david\\anaconda3\\lib\\site-packages (from nbconvert->jupyter==1.0.0->-r requirements/requirements.txt (line 1)) (2.11.3)\n",
      "Requirement already satisfied: entrypoints>=0.2.2 in c:\\users\\david\\anaconda3\\lib\\site-packages (from nbconvert->jupyter==1.0.0->-r requirements/requirements.txt (line 1)) (0.4)\n",
      "Requirement already satisfied: defusedxml in c:\\users\\david\\anaconda3\\lib\\site-packages (from nbconvert->jupyter==1.0.0->-r requirements/requirements.txt (line 1)) (0.7.1)\n",
      "Requirement already satisfied: mistune<2,>=0.8.1 in c:\\users\\david\\anaconda3\\lib\\site-packages (from nbconvert->jupyter==1.0.0->-r requirements/requirements.txt (line 1)) (0.8.4)\n",
      "Requirement already satisfied: beautifulsoup4 in c:\\users\\david\\anaconda3\\lib\\site-packages (from nbconvert->jupyter==1.0.0->-r requirements/requirements.txt (line 1)) (4.11.1)\n",
      "Requirement already satisfied: nbclient<0.6.0,>=0.5.0 in c:\\users\\david\\anaconda3\\lib\\site-packages (from nbconvert->jupyter==1.0.0->-r requirements/requirements.txt (line 1)) (0.5.13)\n",
      "Requirement already satisfied: argon2-cffi in c:\\users\\david\\anaconda3\\lib\\site-packages (from notebook->jupyter==1.0.0->-r requirements/requirements.txt (line 1)) (21.3.0)\n",
      "Requirement already satisfied: prometheus-client in c:\\users\\david\\anaconda3\\lib\\site-packages (from notebook->jupyter==1.0.0->-r requirements/requirements.txt (line 1)) (0.14.1)\n",
      "Requirement already satisfied: Send2Trash>=1.8.0 in c:\\users\\david\\anaconda3\\lib\\site-packages (from notebook->jupyter==1.0.0->-r requirements/requirements.txt (line 1)) (1.8.0)\n",
      "Requirement already satisfied: terminado>=0.8.3 in c:\\users\\david\\anaconda3\\lib\\site-packages (from notebook->jupyter==1.0.0->-r requirements/requirements.txt (line 1)) (0.13.1)\n",
      "Requirement already satisfied: qtpy in c:\\users\\david\\anaconda3\\lib\\site-packages (from qtconsole->jupyter==1.0.0->-r requirements/requirements.txt (line 1)) (2.2.0)\n",
      "Requirement already satisfied: decorator in c:\\users\\david\\anaconda3\\lib\\site-packages (from ipython>=7.23.1->ipykernel->jupyter==1.0.0->-r requirements/requirements.txt (line 1)) (5.1.1)\n",
      "Requirement already satisfied: jedi>=0.16 in c:\\users\\david\\anaconda3\\lib\\site-packages (from ipython>=7.23.1->ipykernel->jupyter==1.0.0->-r requirements/requirements.txt (line 1)) (0.18.1)\n",
      "Requirement already satisfied: backcall in c:\\users\\david\\anaconda3\\lib\\site-packages (from ipython>=7.23.1->ipykernel->jupyter==1.0.0->-r requirements/requirements.txt (line 1)) (0.2.0)\n",
      "Requirement already satisfied: pickleshare in c:\\users\\david\\anaconda3\\lib\\site-packages (from ipython>=7.23.1->ipykernel->jupyter==1.0.0->-r requirements/requirements.txt (line 1)) (0.7.5)\n",
      "Requirement already satisfied: setuptools>=18.5 in c:\\users\\david\\anaconda3\\lib\\site-packages (from ipython>=7.23.1->ipykernel->jupyter==1.0.0->-r requirements/requirements.txt (line 1)) (63.4.1)\n",
      "Requirement already satisfied: colorama in c:\\users\\david\\anaconda3\\lib\\site-packages (from ipython>=7.23.1->ipykernel->jupyter==1.0.0->-r requirements/requirements.txt (line 1)) (0.4.5)\n",
      "Requirement already satisfied: MarkupSafe>=0.23 in c:\\users\\david\\anaconda3\\lib\\site-packages (from jinja2>=2.4->nbconvert->jupyter==1.0.0->-r requirements/requirements.txt (line 1)) (2.0.1)\n",
      "Requirement already satisfied: pywin32>=1.0 in c:\\users\\david\\anaconda3\\lib\\site-packages (from jupyter-core->nbconvert->jupyter==1.0.0->-r requirements/requirements.txt (line 1)) (302)\n",
      "Requirement already satisfied: jsonschema>=2.6 in c:\\users\\david\\anaconda3\\lib\\site-packages (from nbformat>=4.2.0->ipywidgets->jupyter==1.0.0->-r requirements/requirements.txt (line 1)) (4.16.0)\n",
      "Requirement already satisfied: fastjsonschema in c:\\users\\david\\anaconda3\\lib\\site-packages (from nbformat>=4.2.0->ipywidgets->jupyter==1.0.0->-r requirements/requirements.txt (line 1)) (2.16.2)\n",
      "Requirement already satisfied: wcwidth in c:\\users\\david\\anaconda3\\lib\\site-packages (from prompt-toolkit!=3.0.0,!=3.0.1,<3.1.0,>=2.0.0->jupyter-console->jupyter==1.0.0->-r requirements/requirements.txt (line 1)) (0.2.5)\n",
      "Requirement already satisfied: pywinpty>=1.1.0 in c:\\users\\david\\anaconda3\\lib\\site-packages (from terminado>=0.8.3->notebook->jupyter==1.0.0->-r requirements/requirements.txt (line 1)) (2.0.2)\n",
      "Requirement already satisfied: argon2-cffi-bindings in c:\\users\\david\\anaconda3\\lib\\site-packages (from argon2-cffi->notebook->jupyter==1.0.0->-r requirements/requirements.txt (line 1)) (21.2.0)\n",
      "Requirement already satisfied: soupsieve>1.2 in c:\\users\\david\\anaconda3\\lib\\site-packages (from beautifulsoup4->nbconvert->jupyter==1.0.0->-r requirements/requirements.txt (line 1)) (2.3.1)\n",
      "Requirement already satisfied: webencodings in c:\\users\\david\\anaconda3\\lib\\site-packages (from bleach->nbconvert->jupyter==1.0.0->-r requirements/requirements.txt (line 1)) (0.5.1)\n",
      "Requirement already satisfied: parso<0.9.0,>=0.8.0 in c:\\users\\david\\anaconda3\\lib\\site-packages (from jedi>=0.16->ipython>=7.23.1->ipykernel->jupyter==1.0.0->-r requirements/requirements.txt (line 1)) (0.8.3)\n",
      "Requirement already satisfied: attrs>=17.4.0 in c:\\users\\david\\anaconda3\\lib\\site-packages (from jsonschema>=2.6->nbformat>=4.2.0->ipywidgets->jupyter==1.0.0->-r requirements/requirements.txt (line 1)) (21.4.0)\n",
      "Requirement already satisfied: pyrsistent!=0.17.0,!=0.17.1,!=0.17.2,>=0.14.0 in c:\\users\\david\\anaconda3\\lib\\site-packages (from jsonschema>=2.6->nbformat>=4.2.0->ipywidgets->jupyter==1.0.0->-r requirements/requirements.txt (line 1)) (0.18.0)\n",
      "Requirement already satisfied: cffi>=1.0.1 in c:\\users\\david\\anaconda3\\lib\\site-packages (from argon2-cffi-bindings->argon2-cffi->notebook->jupyter==1.0.0->-r requirements/requirements.txt (line 1)) (1.15.1)\n",
      "Requirement already satisfied: pycparser in c:\\users\\david\\anaconda3\\lib\\site-packages (from cffi>=1.0.1->argon2-cffi-bindings->argon2-cffi->notebook->jupyter==1.0.0->-r requirements/requirements.txt (line 1)) (2.21)\n",
      "Installing collected packages: pathlib2, numpy, importlib-resources, scipy, pandas, contourpy, cftime, xarray, netCDF4, matplotlib\n",
      "  Attempting uninstall: numpy\n",
      "    Found existing installation: numpy 1.21.5\n",
      "    Uninstalling numpy-1.21.5:\n",
      "      Successfully uninstalled numpy-1.21.5\n"
     ]
    },
    {
     "name": "stderr",
     "output_type": "stream",
     "text": [
      "ERROR: Could not install packages due to an OSError: [WinError 5] Accesso negato: 'C:\\\\Users\\\\David\\\\anaconda3\\\\Lib\\\\site-packages\\\\~umpy\\\\core\\\\_multiarray_tests.cp39-win_amd64.pyd'\n",
      "Consider using the `--user` option or check the permissions.\n",
      "\n"
     ]
    }
   ],
   "source": [
    "!pip install -r requirements/requirements.txt"
   ]
  },
  {
   "cell_type": "code",
   "execution_count": 2,
   "id": "e99995fd",
   "metadata": {},
   "outputs": [],
   "source": [
    "import xarray as xr\n",
    "import pandas as pd\n",
    "from pathlib import Path\n",
    "from datetime import datetime\n",
    "\n",
    "%reload_ext autoreload\n",
    "%autoreload 2"
   ]
  },
  {
   "cell_type": "markdown",
   "id": "21a0b754",
   "metadata": {},
   "source": [
    "# 1. Parameters"
   ]
  },
  {
   "cell_type": "code",
   "execution_count": null,
   "id": "4c862d49",
   "metadata": {},
   "outputs": [],
   "source": [
    "DATA_PATH = Path(\"data\")\n",
    "RASTER_PATH = DATA_PATH / \"rasters\"\n",
    "CSV_PATH = DATA_PATH / \"csv\""
   ]
  },
  {
   "cell_type": "markdown",
   "id": "4b9f01c8",
   "metadata": {},
   "source": [
    "# 2. Data"
   ]
  },
  {
   "cell_type": "markdown",
   "id": "5bc93610",
   "metadata": {},
   "source": [
    "## 2.1 Download data"
   ]
  },
  {
   "cell_type": "code",
   "execution_count": null,
   "id": "05d2a3d3",
   "metadata": {},
   "outputs": [],
   "source": [
    "raster_path = RASTER_PATH / \"raster_test.nc\""
   ]
  },
  {
   "cell_type": "markdown",
   "id": "9d66394e",
   "metadata": {},
   "source": [
    "## 2.2 Load data"
   ]
  },
  {
   "cell_type": "markdown",
   "id": "fd7b9ea0",
   "metadata": {},
   "source": [
    "`xarray` doc: https://tutorial.xarray.dev/intro.html"
   ]
  },
  {
   "cell_type": "markdown",
   "id": "11c59705",
   "metadata": {},
   "source": [
    "`xarray.DataArray` is xarray’s implementation of a labeled, multi-dimensional array. It has several key properties:\n",
    "\n",
    "- values: a numpy.ndarray holding the array’s values\n",
    "\n",
    "- dims: dimension names for each axis (e.g., ('x', 'y', 'z'))\n",
    "\n",
    "- coords: a dict-like container of arrays (coordinates) that label each point (e.g., 1-dimensional arrays of numbers, datetime objects or strings)\n",
    "\n",
    "- attrs: dict to hold arbitrary metadata (attributes)"
   ]
  },
  {
   "cell_type": "markdown",
   "id": "fd46cada",
   "metadata": {},
   "source": [
    "`xarray.Dataset`\n",
    "\n",
    "A dict-like collection of `DataArray` objects with aligned dimensions. Thus, most operations that can be performed on the dimensions of a single `DataArray` can be performed on a dataset. Datasets have data variables (see Variable below), dimensions, coordinates, and attributes."
   ]
  },
  {
   "cell_type": "markdown",
   "id": "54aa1865",
   "metadata": {},
   "source": [
    "⚠️ **In the following and in all notebooks, the term raster will denominate a `xarray.DataArray` or `xarray.Dataset`** ⚠️"
   ]
  },
  {
   "cell_type": "code",
   "execution_count": null,
   "id": "b4828fe7",
   "metadata": {},
   "outputs": [],
   "source": [
    "raster = xr.load_dataset(raster_path).drop(\"spatial_ref\")\n",
    "raster"
   ]
  },
  {
   "cell_type": "markdown",
   "id": "ed98f0b2",
   "metadata": {},
   "source": [
    "Here the raster is composed of 3 coordinates (`longitude`, `latitude` and `time`) and has 2 variables:\n",
    "- `max_temp`: maximum temperature over one day\n",
    "- `avg_temp`: average temperature over one day"
   ]
  },
  {
   "cell_type": "markdown",
   "id": "ed202da2",
   "metadata": {},
   "source": [
    "# 3. Familiarize with xarray"
   ]
  },
  {
   "cell_type": "markdown",
   "id": "c04c1886",
   "metadata": {},
   "source": [
    "You can have a look at the xarray doc for indexing and selecting: https://docs.xarray.dev/en/stable/user-guide/indexing.html"
   ]
  },
  {
   "cell_type": "markdown",
   "id": "e7d9bf47",
   "metadata": {},
   "source": [
    "#### Let's now look at the variables: for example max_temp\n",
    "\n",
    "It is a `xarray.DataArray`"
   ]
  },
  {
   "cell_type": "code",
   "execution_count": null,
   "id": "d14283e2",
   "metadata": {},
   "outputs": [],
   "source": [
    "raster[\"max_temp\"]"
   ]
  },
  {
   "cell_type": "markdown",
   "id": "546854e4",
   "metadata": {},
   "source": [
    "Let's say we want to select the grid cell at position [0,0], then it becomes as follows:"
   ]
  },
  {
   "cell_type": "code",
   "execution_count": null,
   "id": "100a07b9",
   "metadata": {},
   "outputs": [],
   "source": [
    "raster[\"max_temp\"][dict(longitude=0, latitude=0)]"
   ]
  },
  {
   "cell_type": "markdown",
   "id": "05fa1118",
   "metadata": {},
   "source": [
    "And we can plot the timeseries over the year 2010:"
   ]
  },
  {
   "cell_type": "code",
   "execution_count": null,
   "id": "92d49ec5",
   "metadata": {},
   "outputs": [],
   "source": [
    "raster[\"max_temp\"][dict(longitude=0, latitude=0)].plot()"
   ]
  },
  {
   "cell_type": "markdown",
   "id": "e801ddda",
   "metadata": {},
   "source": [
    "If we now want to get the value for July, 1st of 2010:"
   ]
  },
  {
   "cell_type": "code",
   "execution_count": null,
   "id": "64377293",
   "metadata": {},
   "outputs": [],
   "source": [
    "raster[\"max_temp\"][dict(longitude=0, latitude=0)].sel(dict(time=datetime(2010, 7, 1))).values"
   ]
  },
  {
   "cell_type": "markdown",
   "id": "b2cc33aa",
   "metadata": {},
   "source": [
    "#### Similarly, let's say, we have the coordinates (longitude and latitude) of a point and we want to know the min and mean temperature on the 5th of December 2010:"
   ]
  },
  {
   "cell_type": "markdown",
   "id": "f57d79c1",
   "metadata": {},
   "source": [
    "The coordinates here at in the geodesic Coordinate reference system (CRS)\n",
    "\n",
    "For more info on CRS, please have a look at: https://docs.qgis.org/3.22/en/docs/gentle_gis_introduction/coordinate_reference_systems.html"
   ]
  },
  {
   "cell_type": "code",
   "execution_count": null,
   "id": "c5440074",
   "metadata": {},
   "outputs": [],
   "source": [
    "point_latitude = -42.5776\n",
    "point_longitude = 147.3224\n",
    "point_date = datetime(2010, 12, 5)"
   ]
  },
  {
   "cell_type": "code",
   "execution_count": null,
   "id": "5850b9f4",
   "metadata": {},
   "outputs": [],
   "source": [
    "raster.sel(\n",
    "    dict(longitude=point_longitude, latitude=point_latitude, time=point_date),\n",
    "    method=\"nearest\",\n",
    ")"
   ]
  },
  {
   "cell_type": "markdown",
   "id": "7cf0a05d",
   "metadata": {},
   "source": [
    "And let's say, you want to access the mean temperature:"
   ]
  },
  {
   "cell_type": "code",
   "execution_count": null,
   "id": "39b874fa",
   "metadata": {},
   "outputs": [],
   "source": [
    "point_avg_temp = raster.sel(\n",
    "    dict(longitude=point_longitude, latitude=point_latitude, time=point_date),\n",
    "    method=\"nearest\",\n",
    ")[\"avg_temp\"].values\n",
    "point_avg_temp"
   ]
  },
  {
   "cell_type": "markdown",
   "id": "df7bf05e",
   "metadata": {},
   "source": [
    "# 4. Task\n",
    "\n",
    "Your task here is to find the corresponding features associated to an ignition point. More precisely, you need to determine the elevation, population density, maximum and average temperature at the location of the ignition point and the day it occurred."
   ]
  },
  {
   "cell_type": "markdown",
   "id": "3e6729e8",
   "metadata": {},
   "source": [
    "## 4.1 Load data"
   ]
  },
  {
   "cell_type": "markdown",
   "id": "3233001f",
   "metadata": {},
   "source": [
    "### 4.1.1 Rasters"
   ]
  },
  {
   "cell_type": "code",
   "execution_count": null,
   "id": "3f73bdb6",
   "metadata": {},
   "outputs": [],
   "source": [
    "topo_path = RASTER_PATH / \"topo.nc\"\n",
    "weather_path = RASTER_PATH / \"weather.nc\""
   ]
  },
  {
   "cell_type": "code",
   "execution_count": null,
   "id": "83d4eb34",
   "metadata": {},
   "outputs": [],
   "source": [
    "topo_xr = xr.load_dataset(topo_path)\n",
    "weather_xr = xr.load_dataset(weather_path)"
   ]
  },
  {
   "cell_type": "markdown",
   "id": "f0d4aa2b",
   "metadata": {},
   "source": [
    "### 4.1.2 Ignition point"
   ]
  },
  {
   "cell_type": "code",
   "execution_count": null,
   "id": "e2281da6",
   "metadata": {},
   "outputs": [],
   "source": [
    "ignition_point_path = CSV_PATH / \"ignition_points.csv\""
   ]
  },
  {
   "cell_type": "code",
   "execution_count": null,
   "id": "6c53274d",
   "metadata": {},
   "outputs": [],
   "source": [
    "df_ignition = pd.read_csv(ignition_point_path, index_col=0)\n",
    "df_ignition"
   ]
  },
  {
   "cell_type": "markdown",
   "id": "48b19bf4",
   "metadata": {},
   "source": [
    "## 4.2 Map features\n",
    "\n",
    "🚨 You need to complement the dataframe with the raster features. 🚨\n",
    "\n",
    "You need to use the 2 rasters and extract the information corresponding to the ignition point. You have to determine the elevation, population density, maximum and average temperature at the location of the ignition point at the time of ignition.\n",
    "\n",
    "The expected result is shown below:"
   ]
  },
  {
   "cell_type": "code",
   "execution_count": null,
   "id": "b13f2c34",
   "metadata": {},
   "outputs": [],
   "source": [
    "# NOTE: Fill me\n",
    "\n",
    "df_ignition = \"fill with proper dataframe\""
   ]
  },
  {
   "cell_type": "code",
   "execution_count": null,
   "id": "3fe3e8fc",
   "metadata": {},
   "outputs": [],
   "source": [
    "expected_dataframe = pd.DataFrame(\n",
    "    {\n",
    "        \"Date\": {0: \"2002-11-11\"},\n",
    "        \"latitude\": {0: -42.6},\n",
    "        \"longitude\": {0: 147.5},\n",
    "        \"elevation\": {0: 388},\n",
    "        \"pop_dens\": {0: 2.5},\n",
    "        \"max_temp\": {0: 19.3},\n",
    "        \"avg_temp\": {0: 4.9},\n",
    "    }\n",
    ")"
   ]
  },
  {
   "cell_type": "code",
   "execution_count": null,
   "id": "e16e91ea",
   "metadata": {},
   "outputs": [],
   "source": [
    "pd.testing.assert_frame_equal(df_ignition, expected_dataframe, rtol=1e-2)"
   ]
  },
  {
   "cell_type": "markdown",
   "id": "c8f8cd26",
   "metadata": {},
   "source": [
    "---\n",
    "\n",
    "# END OF SCRIPT"
   ]
  }
 ],
 "metadata": {
  "kernelspec": {
   "display_name": "Python 3 (ipykernel)",
   "language": "python",
   "name": "python3"
  },
  "language_info": {
   "codemirror_mode": {
    "name": "ipython",
    "version": 3
   },
   "file_extension": ".py",
   "mimetype": "text/x-python",
   "name": "python",
   "nbconvert_exporter": "python",
   "pygments_lexer": "ipython3",
   "version": "3.9.13"
  }
 },
 "nbformat": 4,
 "nbformat_minor": 5
}
